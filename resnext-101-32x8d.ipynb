{
 "cells": [
  {
   "cell_type": "markdown",
   "metadata": {},
   "source": [
    "# Introduction\n",
    "\n",
    "Here we make use of ResNeXt and \"weakly supervised pre-training\", the ResNeXt-101 . See https://github.com/facebookresearch/WSL-Images for model information."
   ]
  },
  {
   "cell_type": "code",
   "execution_count": 1,
   "metadata": {},
   "outputs": [],
   "source": [
    "# Input\n",
    "\n",
    "dir_csv = '../input/rsna-intracranial-hemorrhage-detection'\n",
    "dir_train_img = '../input/rsna-train-stage-1-images-png-224x/stage_1_train_png_224x'\n",
    "dir_test_img = '../input/rsna-test-stage-1-images-png-224x/stage_1_test_png_224x'\n"
   ]
  },
  {
   "cell_type": "markdown",
   "metadata": {},
   "source": [
    "Defining some necessary parameters"
   ]
  },
  {
   "cell_type": "code",
   "execution_count": 2,
   "metadata": {},
   "outputs": [],
   "source": [
    "\n",
    "# Parameters\n",
    "\n",
    "n_classes = 6\n",
    "n_epochs = 1\n",
    "batch_size = 32"
   ]
  },
  {
   "cell_type": "markdown",
   "metadata": {},
   "source": [
    "Installing some usful libraries"
   ]
  },
  {
   "cell_type": "code",
   "execution_count": 3,
   "metadata": {
    "_kg_hide-output": true
   },
   "outputs": [
    {
     "name": "stdout",
     "output_type": "stream",
     "text": [
      "Cloning into 'apex'...\r\n",
      "remote: Enumerating objects: 11, done.\u001b[K\r\n",
      "remote: Counting objects: 100% (11/11), done.\u001b[K\r\n",
      "remote: Compressing objects: 100% (10/10), done.\u001b[K\r\n",
      "remote: Total 5433 (delta 1), reused 3 (delta 1), pack-reused 5422\u001b[K\r\n",
      "Receiving objects: 100% (5433/5433), 13.32 MiB | 6.04 MiB/s, done.\r\n",
      "Resolving deltas: 100% (3512/3512), done.\r\n",
      "/opt/conda/lib/python3.6/site-packages/pip/_internal/commands/install.py:243: UserWarning: Disabling all use of wheels due to the use of --build-options / --global-options / --install-options.\r\n",
      "  cmdoptions.check_install_build_global(options)\r\n",
      "Created temporary directory: /tmp/pip-ephem-wheel-cache-8a691fya\r\n",
      "Created temporary directory: /tmp/pip-req-tracker-btt9nsny\r\n",
      "Created requirements tracker '/tmp/pip-req-tracker-btt9nsny'\r\n",
      "Created temporary directory: /tmp/pip-install-m9uwrvr8\r\n",
      "Processing /kaggle/working/apex\r\n",
      "  Created temporary directory: /tmp/pip-req-build-ugtswx6s\r\n",
      "  Added file:///kaggle/working/apex to build tracker '/tmp/pip-req-tracker-btt9nsny'\r\n",
      "    Running setup.py (path:/tmp/pip-req-build-ugtswx6s/setup.py) egg_info for package from file:///kaggle/working/apex\r\n",
      "    Running command python setup.py egg_info\r\n",
      "    torch.__version__  =  1.2.0\r\n",
      "      warnings.warn(\"Option --pyprof not specified. Not installing PyProf dependencies!\")\r\n",
      "  Source in /tmp/pip-req-build-ugtswx6s has version 0.1, which satisfies requirement apex==0.1 from file:///kaggle/working/apex\r\n",
      "  Removed apex==0.1 from file:///kaggle/working/apex from build tracker '/tmp/pip-req-tracker-btt9nsny'\r\n",
      "Installing collected packages: apex\r\n",
     "  Found link https://files.pythonhosted.org/packages/00/9e/4c83a0950d8bdec0b4ca72afd2f9cea92d08eb7c1a768363f2ea458d08b4/pip-19.2.3.tar.gz#sha256=e7a31f147974362e6c82d84b91c7f2bdf57e4d3163d3d454e6c3e71944d67135 (from https://pypi.org/simple/pip/) (requires-python:>=2.7,!=3.0.*,!=3.1.*,!=3.2.*,!=3.3.*,!=3.4.*), version: 19.2.3\r\n",
     ]
    }
   ],
   "source": [
    "!git clone https://github.com/NVIDIA/apex && cd apex && pip install -v --no-cache-dir --global-option=\"--cpp_ext\" --global-option=\"--cuda_ext\" ./\n",
    "    "
   ]
  },
  {
   "cell_type": "code",
   "execution_count": 4,
   "metadata": {},
   "outputs": [],
   "source": [
    "# Libraries\n",
    "\n",
    "from apex import amp\n",
    "import os\n",
    "import cv2\n",
    "import glob\n",
    "import pydicom\n",
    "import numpy as np\n",
    "import pandas as pd\n",
    "import torch\n",
    "import torch.optim as optim\n",
    "from albumentations import Compose, ShiftScaleRotate, Resize\n",
    "from albumentations.pytorch import ToTensor\n",
    "from torch.utils.data import Dataset\n",
    "from tqdm import tqdm_notebook as tqdm\n",
    "from matplotlib import pyplot as plt"
   ]
  },
  {
   "cell_type": "markdown",
   "metadata": {},
   "source": [
    "Defining our dataset function"
   ]
  },
  {
   "cell_type": "code",
   "execution_count": 5,
   "metadata": {},
   "outputs": [],
   "source": [
    "\n",
    "# Functions\n",
    "\n",
    "class IntracranialDataset(Dataset):\n",
    "\n",
    "    def __init__(self, csv_file, path, labels, transform=None):\n",
    "        \n",
    "        self.path = path\n",
    "        self.data = pd.read_csv(csv_file)\n",
    "        self.transform = transform\n",
    "        self.labels = labels\n",
    "\n",
    "    def __len__(self):\n",
    "        \n",
    "        return len(self.data)\n",
    "\n",
    "    def __getitem__(self, idx):\n",
    "        \n",
    "        img_name = os.path.join(self.path, self.data.loc[idx, 'Image'] + '.png')\n",
    "        img = cv2.imread(img_name)   \n",
    "        \n",
    "        if self.transform:       \n",
    "            \n",
    "            augmented = self.transform(image=img)\n",
    "            img = augmented['image']   \n",
    "            \n",
    "        if self.labels:\n",
    "            \n",
    "            labels = torch.tensor(\n",
    "                self.data.loc[idx, ['epidural', 'intraparenchymal', 'intraventricular', 'subarachnoid', 'subdural', 'any']])\n",
    "            return {'image': img, 'labels': labels}    \n",
    "        \n",
    "        else:      \n",
    "            \n",
    "            return {'image': img}\n",
    "    \n",
    "    \n"
   ]
  },
  {
   "cell_type": "markdown",
   "metadata": {},
   "source": [
    "# CSV"
   ]
  },
  {
   "cell_type": "code",
   "execution_count": 6,
   "metadata": {},
   "outputs": [],
   "source": [
    "# CSVs\n",
    "\n",
    "train = pd.read_csv(os.path.join(dir_csv, 'stage_1_train.csv'))\n",
    "test = pd.read_csv(os.path.join(dir_csv, 'stage_1_sample_submission.csv'))"
   ]
  },
  {
   "cell_type": "code",
   "execution_count": 7,
   "metadata": {},
   "outputs": [
    {
     "data": {
      "text/html": [
       "<div>\n",
       "<style scoped>\n",
       "    .dataframe tbody tr th:only-of-type {\n",
       "        vertical-align: middle;\n",
       "    }\n",
       "\n",
       "    .dataframe tbody tr th {\n",
       "        vertical-align: top;\n",
       "    }\n",
       "\n",
       "    .dataframe thead th {\n",
       "        text-align: right;\n",
       "    }\n",
       "</style>\n",
       "<table border=\"1\" class=\"dataframe\">\n",
       "  <thead>\n",
       "    <tr style=\"text-align: right;\">\n",
       "      <th>Diagnosis</th>\n",
       "      <th>Image</th>\n",
       "      <th>any</th>\n",
       "      <th>epidural</th>\n",
       "      <th>intraparenchymal</th>\n",
       "      <th>intraventricular</th>\n",
       "      <th>subarachnoid</th>\n",
       "      <th>subdural</th>\n",
       "    </tr>\n",
       "  </thead>\n",
       "  <tbody>\n",
       "    <tr>\n",
       "      <td>0</td>\n",
       "      <td>ID_000039fa0</td>\n",
       "      <td>0</td>\n",
       "      <td>0</td>\n",
       "      <td>0</td>\n",
       "      <td>0</td>\n",
       "      <td>0</td>\n",
       "      <td>0</td>\n",
       "    </tr>\n",
       "    <tr>\n",
       "      <td>1</td>\n",
       "      <td>ID_00005679d</td>\n",
       "      <td>0</td>\n",
       "      <td>0</td>\n",
       "      <td>0</td>\n",
       "      <td>0</td>\n",
       "      <td>0</td>\n",
       "      <td>0</td>\n",
       "    </tr>\n",
       "    <tr>\n",
       "      <td>2</td>\n",
       "      <td>ID_00008ce3c</td>\n",
       "      <td>0</td>\n",
       "      <td>0</td>\n",
       "      <td>0</td>\n",
       "      <td>0</td>\n",
       "      <td>0</td>\n",
       "      <td>0</td>\n",
       "    </tr>\n",
       "    <tr>\n",
       "      <td>3</td>\n",
       "      <td>ID_0000950d7</td>\n",
       "      <td>0</td>\n",
       "      <td>0</td>\n",
       "      <td>0</td>\n",
       "      <td>0</td>\n",
       "      <td>0</td>\n",
       "      <td>0</td>\n",
       "    </tr>\n",
       "    <tr>\n",
       "      <td>4</td>\n",
       "      <td>ID_0000aee4b</td>\n",
       "      <td>0</td>\n",
       "      <td>0</td>\n",
       "      <td>0</td>\n",
       "      <td>0</td>\n",
       "      <td>0</td>\n",
       "      <td>0</td>\n",
       "    </tr>\n",
       "  </tbody>\n",
       "</table>\n",
       "</div>"
      ],
      "text/plain": [
       "Diagnosis         Image  any  epidural  intraparenchymal  intraventricular  \\\n",
       "0          ID_000039fa0    0         0                 0                 0   \n",
       "1          ID_00005679d    0         0                 0                 0   \n",
       "2          ID_00008ce3c    0         0                 0                 0   \n",
       "3          ID_0000950d7    0         0                 0                 0   \n",
       "4          ID_0000aee4b    0         0                 0                 0   \n",
       "\n",
       "Diagnosis  subarachnoid  subdural  \n",
       "0                     0         0  \n",
       "1                     0         0  \n",
       "2                     0         0  \n",
       "3                     0         0  \n",
       "4                     0         0  "
      ]
     },
     "execution_count": 7,
     "metadata": {},
     "output_type": "execute_result"
    }
   ],
   "source": [
    "\n",
    "# Split train out into row per image and save a sample\n",
    "\n",
    "train[['ID', 'Image', 'Diagnosis']] = train['ID'].str.split('_', expand=True)\n",
    "train = train[['Image', 'Diagnosis', 'Label']]\n",
    "train.drop_duplicates(inplace=True)\n",
    "train = train.pivot(index='Image', columns='Diagnosis', values='Label').reset_index()\n",
    "train['Image'] = 'ID_' + train['Image']\n",
    "train.head()"
   ]
  },
  {
   "cell_type": "code",
   "execution_count": 8,
   "metadata": {},
   "outputs": [],
   "source": [
    "# Some files didn't contain legitimate images, so we need to remove them\n",
    "\n",
    "png = glob.glob(os.path.join(dir_train_img, '*.png'))\n",
    "png = [os.path.basename(png)[:-4] for png in png]\n",
    "png = np.array(png)\n",
    "\n",
    "train = train[train['Image'].isin(png)]\n",
    "train.to_csv('train.csv', index=False)"
   ]
  },
  {
   "cell_type": "code",
   "execution_count": 9,
   "metadata": {},
   "outputs": [],
   "source": [
    "# Also prepare the test data\n",
    "\n",
    "test[['ID','Image','Diagnosis']] = test['ID'].str.split('_', expand=True)\n",
    "test['Image'] = 'ID_' + test['Image']\n",
    "test = test[['Image', 'Label']]\n",
    "test.drop_duplicates(inplace=True)\n",
    "\n",
    "test.to_csv('test.csv', index=False)"
   ]
  },
  {
   "cell_type": "markdown",
   "metadata": {},
   "source": [
    "Using the predefined dataloader provided by pytorch"
   ]
  },
  {
   "cell_type": "code",
   "execution_count": 10,
   "metadata": {},
   "outputs": [],
   "source": [
    "# Data loaders\n",
    "\n",
    "transform_train = Compose([\n",
    "    ShiftScaleRotate(),\n",
    "    ToTensor()\n",
    "])\n",
    "\n",
    "transform_test= Compose([\n",
    "    ToTensor()\n",
    "])\n",
    "\n",
    "train_dataset = IntracranialDataset(\n",
    "    csv_file='train.csv', path=dir_train_img, transform=transform_train, labels=True)\n",
    "\n",
    "test_dataset = IntracranialDataset(\n",
    "    csv_file='test.csv', path=dir_test_img, transform=transform_test, labels=False)\n",
    "\n",
    "data_loader_train = torch.utils.data.DataLoader(train_dataset, batch_size=batch_size, shuffle=False, num_workers=4)\n",
    "data_loader_test = torch.utils.data.DataLoader(test_dataset, batch_size=batch_size, shuffle=False, num_workers=4)"
   ]
  },
  {
   "cell_type": "code",
   "execution_count": 11,
   "metadata": {},
   "outputs": [
    {
     "data": {
      "image/png": "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\n",
      "text/plain": [
       "<Figure size 1080x360 with 5 Axes>"
      ]
     },
     "metadata": {
      "needs_background": "light"
     },
     "output_type": "display_data"
    }
   ],
   "source": [
    "# Plot train example\n",
    "\n",
    "batch = next(iter(data_loader_train))\n",
    "fig, axs = plt.subplots(1, 5, figsize=(15,5))\n",
    "\n",
    "for i in np.arange(5):\n",
    "    \n",
    "    axs[i].imshow(np.transpose(batch['image'][i].numpy(), (1,2,0))[:,:,0], cmap=plt.cm.bone)\n"
   ]
  },
  {
   "cell_type": "code",
   "execution_count": 12,
   "metadata": {},
   "outputs": [
    {
     "data": {
      "image/png": "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\n",
      "text/plain": [
       "<Figure size 1080x360 with 5 Axes>"
      ]
     },
     "metadata": {
      "needs_background": "light"
     },
     "output_type": "display_data"
    }
   ],
   "source": [
    "# Plot test example\n",
    "\n",
    "batch = next(iter(data_loader_test))\n",
    "fig, axs = plt.subplots(1, 5, figsize=(15,5))\n",
    "\n",
    "for i in np.arange(5):\n",
    "    \n",
    "    axs[i].imshow(np.transpose(batch['image'][i].numpy(), (1,2,0))[:,:,0], cmap=plt.cm.bone)\n"
   ]
  },
  {
   "cell_type": "markdown",
   "metadata": {},
   "source": [
    "Loading our ResNeXt-101 model"
   ]
  },
  {
   "cell_type": "code",
   "execution_count": 13,
   "metadata": {},
   "outputs": [
    {
     "name": "stderr",
     "output_type": "stream",
     "text": [
      "Downloading: \"https://github.com/facebookresearch/WSL-Images/archive/master.zip\" to /tmp/.cache/torch/hub/master.zip\n",
      "Downloading: \"https://download.pytorch.org/models/ig_resnext101_32x16-c6f796b0.pth\" to /tmp/.cache/torch/checkpoints/ig_resnext101_32x16-c6f796b0.pth\n",
      "100%|██████████| 741M/741M [00:27<00:00, 27.9MB/s]\n"
     ]
    },
    {
     "name": "stdout",
     "output_type": "stream",
     "text": [
      "Selected optimization level O1:  Insert automatic casts around Pytorch functions and Tensor methods.\n",
      "\n",
      "Defaults for this optimization level are:\n",
      "enabled                : True\n",
      "opt_level              : O1\n",
      "cast_model_type        : None\n",
      "patch_torch_functions  : True\n",
      "keep_batchnorm_fp32    : None\n",
      "master_weights         : None\n",
      "loss_scale             : dynamic\n",
      "Processing user overrides (additional kwargs that are not None)...\n",
      "After processing overrides, optimization options are:\n",
      "enabled                : True\n",
      "opt_level              : O1\n",
      "cast_model_type        : None\n",
      "patch_torch_functions  : True\n",
      "keep_batchnorm_fp32    : None\n",
      "master_weights         : None\n",
      "loss_scale             : dynamic\n"
     ]
    }
   ],
   "source": [
    "# Model\n",
    "\n",
    "device = torch.device(\"cuda:0\")\n",
    "model = torch.hub.load('facebookresearch/WSL-Images', 'resnext101_32x16d_wsl')\n",
    "model.fc = torch.nn.Linear(2048, n_classes)\n",
    "\n",
    "model.to(device)\n",
    "\n",
    "criterion = torch.nn.BCEWithLogitsLoss()\n",
    "plist = [{'params': model.parameters(), 'lr': 2e-5}]\n",
    "optimizer = optim.Adam(plist, lr=2e-5)\n",
    "\n",
    "model, optimizer = amp.initialize(model, optimizer, opt_level=\"O1\")\n"
   ]
  },
  {
   "cell_type": "markdown",
   "metadata": {},
   "source": [
    "Training the model on the training dataset"
   ]
  },
  {
   "cell_type": "code",
   "execution_count": 14,
   "metadata": {},
   "outputs": [
    {
     "name": "stdout",
     "output_type": "stream",
     "text": [
      "Epoch 0/0\n",
      "----------\n"
     ]
    },
    {
     "data": {
      "application/vnd.jupyter.widget-view+json": {
       "model_id": "331cafca6cd44a65afae0a35112bfb97",
       "version_major": 2,
       "version_minor": 0
      },
      "text/plain": [
       "HBox(children=(IntProgress(value=0, description='Iteration', max=20994, style=ProgressStyle(description_width=…"
      ]
     },
     "metadata": {},
     "output_type": "display_data"
    },
    {
     "name": "stdout",
     "output_type": "stream",
     "text": [
      "Gradient overflow.  Skipping step, loss scaler 0 reducing loss scale to 32768.0\n",
      "Gradient overflow.  Skipping step, loss scaler 0 reducing loss scale to 16384.0\n",
      "Gradient overflow.  Skipping step, loss scaler 0 reducing loss scale to 8192.0\n",
      "Gradient overflow.  Skipping step, loss scaler 0 reducing loss scale to 4096.0\n",
      "Gradient overflow.  Skipping step, loss scaler 0 reducing loss scale to 32768.0\n",
      "Gradient overflow.  Skipping step, loss scaler 0 reducing loss scale to 16384.0\n",
      "Gradient overflow.  Skipping step, loss scaler 0 reducing loss scale to 32768.0\n",
      "Gradient overflow.  Skipping step, loss scaler 0 reducing loss scale to 32768.0\n"
     ]
    }
   ],
   "source": [
    "# Train\n",
    "\n",
    "\n",
    "for epoch in range(n_epochs):\n",
    "    \n",
    "    print('Epoch {}/{}'.format(epoch, n_epochs - 1))\n",
    "    print('-' * 10)\n",
    "\n",
    "    model.train()    \n",
    "    tr_loss = 0\n",
    "    \n",
    "    tk0 = tqdm(data_loader_train, desc=\"Iteration\")\n",
    "\n",
    "    for step, batch in enumerate(tk0):\n",
    "\n",
    "        inputs = batch[\"image\"]\n",
    "        labels = batch[\"labels\"]\n",
    "\n",
    "        inputs = inputs.to(device, dtype=torch.float)\n",
    "        labels = labels.to(device, dtype=torch.float)\n",
    "\n",
    "        outputs = model(inputs)\n",
    "        loss = criterion(outputs, labels)\n",
    "\n",
    "        with amp.scale_loss(loss, optimizer) as scaled_loss:\n",
    "            scaled_loss.backward()\n",
    "\n",
    "        tr_loss += loss.item()\n",
    "\n",
    "        optimizer.step()\n",
    "        optimizer.zero_grad()\n",
    "\n",
    "    epoch_loss = tr_loss / len(data_loader_train)\n",
    "    print('Training Loss: {:.4f}'.format(epoch_loss))"
   ]
  },
  {
   "cell_type": "markdown",
   "metadata": {},
   "source": [
    "Evaluating model on test data set and getting the predictions"
   ]
  },
  {
   "cell_type": "code",
   "execution_count": 15,
   "metadata": {},
   "outputs": [
    {
     "data": {
      "application/vnd.jupyter.widget-view+json": {
       "model_id": "aef7556f53b44f32be37a224b08853be",
       "version_major": 2,
       "version_minor": 0
      },
      "text/plain": [
       "HBox(children=(IntProgress(value=0, max=2455), HTML(value='')))"
      ]
     },
     "metadata": {},
     "output_type": "display_data"
    },
    {
     "name": "stdout",
     "output_type": "stream",
     "text": [
      "\n"
     ]
    }
   ],
   "source": [
    "# Inference\n",
    "\n",
    "for param in model.parameters():\n",
    "    param.requires_grad = False\n",
    "\n",
    "model.eval()\n",
    "\n",
    "test_pred = np.zeros((len(test_dataset) * n_classes, 1))\n",
    "\n",
    "for i, x_batch in enumerate(tqdm(data_loader_test)):\n",
    "    \n",
    "    x_batch = x_batch[\"image\"]\n",
    "    x_batch = x_batch.to(device, dtype=torch.float)\n",
    "    \n",
    "    with torch.no_grad():\n",
    "        \n",
    "        pred = model(x_batch)\n",
    "        \n",
    "        test_pred[(i * batch_size * n_classes):((i + 1) * batch_size * n_classes)] = torch.sigmoid(\n",
    "            pred).detach().cpu().reshape((len(x_batch) * n_classes, 1))"
   ]
  },
  {
   "cell_type": "markdown",
   "metadata": {},
   "source": [
    "Writing the results into a submission csv file"
   ]
  },
  {
   "cell_type": "code",
   "execution_count": 16,
   "metadata": {},
   "outputs": [
    {
     "data": {
      "text/html": [
       "<div>\n",
       "<style scoped>\n",
       "    .dataframe tbody tr th:only-of-type {\n",
       "        vertical-align: middle;\n",
       "    }\n",
       "\n",
       "    .dataframe tbody tr th {\n",
       "        vertical-align: top;\n",
       "    }\n",
       "\n",
       "    .dataframe thead th {\n",
       "        text-align: right;\n",
       "    }\n",
       "</style>\n",
       "<table border=\"1\" class=\"dataframe\">\n",
       "  <thead>\n",
       "    <tr style=\"text-align: right;\">\n",
       "      <th></th>\n",
       "      <th>ID</th>\n",
       "      <th>Label</th>\n",
       "    </tr>\n",
       "  </thead>\n",
       "  <tbody>\n",
       "    <tr>\n",
       "      <td>0</td>\n",
       "      <td>ID_28fbab7eb_epidural</td>\n",
       "      <td>0.000114</td>\n",
       "    </tr>\n",
       "    <tr>\n",
       "      <td>1</td>\n",
       "      <td>ID_28fbab7eb_intraparenchymal</td>\n",
       "      <td>0.000185</td>\n",
       "    </tr>\n",
       "    <tr>\n",
       "      <td>2</td>\n",
       "      <td>ID_28fbab7eb_intraventricular</td>\n",
       "      <td>0.000021</td>\n",
       "    </tr>\n",
       "    <tr>\n",
       "      <td>3</td>\n",
       "      <td>ID_28fbab7eb_subarachnoid</td>\n",
       "      <td>0.000283</td>\n",
       "    </tr>\n",
       "    <tr>\n",
       "      <td>4</td>\n",
       "      <td>ID_28fbab7eb_subdural</td>\n",
       "      <td>0.000422</td>\n",
       "    </tr>\n",
       "  </tbody>\n",
       "</table>\n",
       "</div>"
      ],
      "text/plain": [
       "                              ID     Label\n",
       "0          ID_28fbab7eb_epidural  0.000114\n",
       "1  ID_28fbab7eb_intraparenchymal  0.000185\n",
       "2  ID_28fbab7eb_intraventricular  0.000021\n",
       "3      ID_28fbab7eb_subarachnoid  0.000283\n",
       "4          ID_28fbab7eb_subdural  0.000422"
      ]
     },
     "execution_count": 16,
     "metadata": {},
     "output_type": "execute_result"
    }
   ],
   "source": [
    "# Submission\n",
    "\n",
    "submission =  pd.read_csv(os.path.join(dir_csv, 'stage_1_sample_submission.csv'))\n",
    "submission = pd.concat([submission.drop(columns=['Label']), pd.DataFrame(test_pred)], axis=1)\n",
    "submission.columns = ['ID', 'Label']\n",
    "\n",
    "submission.to_csv('submission.csv', index=False)\n",
    "submission.head()"
   ]
  },
  {
   "cell_type": "markdown",
   "metadata": {},
   "source": [
    "Have to clean up since Kaggle limits the number of files that can be output from a kernel"
   ]
  },
  {
   "cell_type": "code",
   "execution_count": 17,
   "metadata": {},
   "outputs": [],
   "source": [
    "!rm -rf /kaggle/working/apex\n",
    "!rm test.csv\n",
    "!rm train.csv"
   ]
  }
 ],
 "metadata": {
  "kernelspec": {
   "display_name": "Python 3",
   "language": "python",
   "name": "python3"
  },
  "language_info": {
   "codemirror_mode": {
    "name": "ipython",
    "version": 3
   },
   "file_extension": ".py",
   "mimetype": "text/x-python",
   "name": "python",
   "nbconvert_exporter": "python",
   "pygments_lexer": "ipython3",
   "version": "3.6.6"
  },
  "widgets": {
   "application/vnd.jupyter.widget-state+json": {
    "state": {
     "077a1ae58f484901a9739ec443652bb4": {
      "model_module": "@jupyter-widgets/controls",
      "model_module_version": "1.5.0",
      "model_name": "DescriptionStyleModel",
      "state": {
       "_model_module": "@jupyter-widgets/controls",
       "_model_module_version": "1.5.0",
       "_model_name": "DescriptionStyleModel",
       "_view_count": null,
       "_view_module": "@jupyter-widgets/base",
       "_view_module_version": "1.2.0",
       "_view_name": "StyleView",
       "description_width": ""
      }
     },
     "14d59927f0da46eb83d1bafc05178764": {
      "model_module": "@jupyter-widgets/controls",
      "model_module_version": "1.5.0",
      "model_name": "IntProgressModel",
      "state": {
       "_dom_classes": [],
       "_model_module": "@jupyter-widgets/controls",
       "_model_module_version": "1.5.0",
       "_model_name": "IntProgressModel",
       "_view_count": null,
       "_view_module": "@jupyter-widgets/controls",
       "_view_module_version": "1.5.0",
       "_view_name": "ProgressView",
       "bar_style": "",
       "description": "Iteration: 100%",
       "description_tooltip": null,
       "layout": "IPY_MODEL_811c87af51354c0e968081323deae5fe",
       "max": 20994,
       "min": 0,
       "orientation": "horizontal",
       "style": "IPY_MODEL_ff5be76810fe4071911202363948ebd9",
       "value": 20933
      }
     },
     "28f1f3b8f673431cb01d2b0b9bbe1c54": {
      "model_module": "@jupyter-widgets/controls",
      "model_module_version": "1.5.0",
      "model_name": "DescriptionStyleModel",
      "state": {
       "_model_module": "@jupyter-widgets/controls",
       "_model_module_version": "1.5.0",
       "_model_name": "DescriptionStyleModel",
       "_view_count": null,
       "_view_module": "@jupyter-widgets/base",
       "_view_module_version": "1.2.0",
       "_view_name": "StyleView",
       "description_width": ""
      }
     },
     "331cafca6cd44a65afae0a35112bfb97": {
      "model_module": "@jupyter-widgets/controls",
      "model_module_version": "1.5.0",
      "model_name": "HBoxModel",
      "state": {
       "_dom_classes": [],
       "_model_module": "@jupyter-widgets/controls",
       "_model_module_version": "1.5.0",
       "_model_name": "HBoxModel",
       "_view_count": null,
       "_view_module": "@jupyter-widgets/controls",
       "_view_module_version": "1.5.0",
       "_view_name": "HBoxView",
       "box_style": "",
       "children": [
        "IPY_MODEL_14d59927f0da46eb83d1bafc05178764",
        "IPY_MODEL_9024c3a81e5f483ba89b1afdb064077c"
       ],
       "layout": "IPY_MODEL_d9fea7ebcf434e508265b08d912c7805"
      }
     },
     "33a5ca621c1347a0b7b40420e8738cd8": {
      "model_module": "@jupyter-widgets/base",
      "model_module_version": "1.2.0",
      "model_name": "LayoutModel",
      "state": {
       "_model_module": "@jupyter-widgets/base",
       "_model_module_version": "1.2.0",
       "_model_name": "LayoutModel",
       "_view_count": null,
       "_view_module": "@jupyter-widgets/base",
       "_view_module_version": "1.2.0",
       "_view_name": "LayoutView",
       "align_content": null,
       "align_items": null,
       "align_self": null,
       "border": null,
       "bottom": null,
       "display": null,
       "flex": null,
       "flex_flow": null,
       "grid_area": null,
       "grid_auto_columns": null,
       "grid_auto_flow": null,
       "grid_auto_rows": null,
       "grid_column": null,
       "grid_gap": null,
       "grid_row": null,
       "grid_template_areas": null,
       "grid_template_columns": null,
       "grid_template_rows": null,
       "height": null,
       "justify_content": null,
       "justify_items": null,
       "left": null,
       "margin": null,
       "max_height": null,
       "max_width": null,
       "min_height": null,
       "min_width": null,
       "object_fit": null,
       "object_position": null,
       "order": null,
       "overflow": null,
       "overflow_x": null,
       "overflow_y": null,
       "padding": null,
       "right": null,
       "top": null,
       "visibility": null,
       "width": null
      }
     },
     "44fcab4088614b23b45ab99f43f34921": {
      "model_module": "@jupyter-widgets/base",
      "model_module_version": "1.2.0",
      "model_name": "LayoutModel",
      "state": {
       "_model_module": "@jupyter-widgets/base",
       "_model_module_version": "1.2.0",
       "_model_name": "LayoutModel",
       "_view_count": null,
       "_view_module": "@jupyter-widgets/base",
       "_view_module_version": "1.2.0",
       "_view_name": "LayoutView",
       "align_content": null,
       "align_items": null,
       "align_self": null,
       "border": null,
       "bottom": null,
       "display": null,
       "flex": null,
       "flex_flow": null,
       "grid_area": null,
       "grid_auto_columns": null,
       "grid_auto_flow": null,
       "grid_auto_rows": null,
       "grid_column": null,
       "grid_gap": null,
       "grid_row": null,
       "grid_template_areas": null,
       "grid_template_columns": null,
       "grid_template_rows": null,
       "height": null,
       "justify_content": null,
       "justify_items": null,
       "left": null,
       "margin": null,
       "max_height": null,
       "max_width": null,
       "min_height": null,
       "min_width": null,
       "object_fit": null,
       "object_position": null,
       "order": null,
       "overflow": null,
       "overflow_x": null,
       "overflow_y": null,
       "padding": null,
       "right": null,
       "top": null,
       "visibility": null,
       "width": null
      }
     },
     "5c3371812ed04217a99a3feeb97bc707": {
      "model_module": "@jupyter-widgets/controls",
      "model_module_version": "1.5.0",
      "model_name": "ProgressStyleModel",
      "state": {
       "_model_module": "@jupyter-widgets/controls",
       "_model_module_version": "1.5.0",
       "_model_name": "ProgressStyleModel",
       "_view_count": null,
       "_view_module": "@jupyter-widgets/base",
       "_view_module_version": "1.2.0",
       "_view_name": "StyleView",
       "bar_color": null,
       "description_width": "initial"
      }
     },
     "7a10568b81114aa6ad4513cb63e63fc9": {
      "model_module": "@jupyter-widgets/controls",
      "model_module_version": "1.5.0",
      "model_name": "IntProgressModel",
      "state": {
       "_dom_classes": [],
       "_model_module": "@jupyter-widgets/controls",
       "_model_module_version": "1.5.0",
       "_model_name": "IntProgressModel",
       "_view_count": null,
       "_view_module": "@jupyter-widgets/controls",
       "_view_module_version": "1.5.0",
       "_view_name": "ProgressView",
       "bar_style": "success",
       "description": "100%",
       "description_tooltip": null,
       "layout": "IPY_MODEL_8ede4834343f471a911b3aa13fece4f0",
       "max": 2455,
       "min": 0,
       "orientation": "horizontal",
       "style": "IPY_MODEL_5c3371812ed04217a99a3feeb97bc707",
       "value": 2455
      }
     },
     "811c87af51354c0e968081323deae5fe": {
      "model_module": "@jupyter-widgets/base",
      "model_module_version": "1.2.0",
      "model_name": "LayoutModel",
      "state": {
       "_model_module": "@jupyter-widgets/base",
       "_model_module_version": "1.2.0",
       "_model_name": "LayoutModel",
       "_view_count": null,
       "_view_module": "@jupyter-widgets/base",
       "_view_module_version": "1.2.0",
       "_view_name": "LayoutView",
       "align_content": null,
       "align_items": null,
       "align_self": null,
       "border": null,
       "bottom": null,
       "display": null,
       "flex": null,
       "flex_flow": null,
       "grid_area": null,
       "grid_auto_columns": null,
       "grid_auto_flow": null,
       "grid_auto_rows": null,
       "grid_column": null,
       "grid_gap": null,
       "grid_row": null,
       "grid_template_areas": null,
       "grid_template_columns": null,
       "grid_template_rows": null,
       "height": null,
       "justify_content": null,
       "justify_items": null,
       "left": null,
       "margin": null,
       "max_height": null,
       "max_width": null,
       "min_height": null,
       "min_width": null,
       "object_fit": null,
       "object_position": null,
       "order": null,
       "overflow": null,
       "overflow_x": null,
       "overflow_y": null,
       "padding": null,
       "right": null,
       "top": null,
       "visibility": null,
       "width": null
      }
     },
     "84c0e9f41d16456c8a0cba7b622e33d0": {
      "model_module": "@jupyter-widgets/base",
      "model_module_version": "1.2.0",
      "model_name": "LayoutModel",
      "state": {
       "_model_module": "@jupyter-widgets/base",
       "_model_module_version": "1.2.0",
       "_model_name": "LayoutModel",
       "_view_count": null,
       "_view_module": "@jupyter-widgets/base",
       "_view_module_version": "1.2.0",
       "_view_name": "LayoutView",
       "align_content": null,
       "align_items": null,
       "align_self": null,
       "border": null,
       "bottom": null,
       "display": null,
       "flex": null,
       "flex_flow": null,
       "grid_area": null,
       "grid_auto_columns": null,
       "grid_auto_flow": null,
       "grid_auto_rows": null,
       "grid_column": null,
       "grid_gap": null,
       "grid_row": null,
       "grid_template_areas": null,
       "grid_template_columns": null,
       "grid_template_rows": null,
       "height": null,
       "justify_content": null,
       "justify_items": null,
       "left": null,
       "margin": null,
       "max_height": null,
       "max_width": null,
       "min_height": null,
       "min_width": null,
       "object_fit": null,
       "object_position": null,
       "order": null,
       "overflow": null,
       "overflow_x": null,
       "overflow_y": null,
       "padding": null,
       "right": null,
       "top": null,
       "visibility": null,
       "width": null
      }
     },
     "8ede4834343f471a911b3aa13fece4f0": {
      "model_module": "@jupyter-widgets/base",
      "model_module_version": "1.2.0",
      "model_name": "LayoutModel",
      "state": {
       "_model_module": "@jupyter-widgets/base",
       "_model_module_version": "1.2.0",
       "_model_name": "LayoutModel",
       "_view_count": null,
       "_view_module": "@jupyter-widgets/base",
       "_view_module_version": "1.2.0",
       "_view_name": "LayoutView",
       "align_content": null,
       "align_items": null,
       "align_self": null,
       "border": null,
       "bottom": null,
       "display": null,
       "flex": null,
       "flex_flow": null,
       "grid_area": null,
       "grid_auto_columns": null,
       "grid_auto_flow": null,
       "grid_auto_rows": null,
       "grid_column": null,
       "grid_gap": null,
       "grid_row": null,
       "grid_template_areas": null,
       "grid_template_columns": null,
       "grid_template_rows": null,
       "height": null,
       "justify_content": null,
       "justify_items": null,
       "left": null,
       "margin": null,
       "max_height": null,
       "max_width": null,
       "min_height": null,
       "min_width": null,
       "object_fit": null,
       "object_position": null,
       "order": null,
       "overflow": null,
       "overflow_x": null,
       "overflow_y": null,
       "padding": null,
       "right": null,
       "top": null,
       "visibility": null,
       "width": null
      }
     },
     "9024c3a81e5f483ba89b1afdb064077c": {
      "model_module": "@jupyter-widgets/controls",
      "model_module_version": "1.5.0",
      "model_name": "HTMLModel",
      "state": {
       "_dom_classes": [],
       "_model_module": "@jupyter-widgets/controls",
       "_model_module_version": "1.5.0",
       "_model_name": "HTMLModel",
       "_view_count": null,
       "_view_module": "@jupyter-widgets/controls",
       "_view_module_version": "1.5.0",
       "_view_name": "HTMLView",
       "description": "",
       "description_tooltip": null,
       "layout": "IPY_MODEL_84c0e9f41d16456c8a0cba7b622e33d0",
       "placeholder": "​",
       "style": "IPY_MODEL_077a1ae58f484901a9739ec443652bb4",
       "value": " 20932/20994 [7:39:35&lt;01:21,  1.32s/it]"
      }
     },
     "aa9204920cea447b870fb39e9f8414db": {
      "model_module": "@jupyter-widgets/controls",
      "model_module_version": "1.5.0",
      "model_name": "HTMLModel",
      "state": {
       "_dom_classes": [],
       "_model_module": "@jupyter-widgets/controls",
       "_model_module_version": "1.5.0",
       "_model_name": "HTMLModel",
       "_view_count": null,
       "_view_module": "@jupyter-widgets/controls",
       "_view_module_version": "1.5.0",
       "_view_name": "HTMLView",
       "description": "",
       "description_tooltip": null,
       "layout": "IPY_MODEL_44fcab4088614b23b45ab99f43f34921",
       "placeholder": "​",
       "style": "IPY_MODEL_28f1f3b8f673431cb01d2b0b9bbe1c54",
       "value": " 2455/2455 [16:07&lt;00:00,  2.54it/s]"
      }
     },
     "aef7556f53b44f32be37a224b08853be": {
      "model_module": "@jupyter-widgets/controls",
      "model_module_version": "1.5.0",
      "model_name": "HBoxModel",
      "state": {
       "_dom_classes": [],
       "_model_module": "@jupyter-widgets/controls",
       "_model_module_version": "1.5.0",
       "_model_name": "HBoxModel",
       "_view_count": null,
       "_view_module": "@jupyter-widgets/controls",
       "_view_module_version": "1.5.0",
       "_view_name": "HBoxView",
       "box_style": "",
       "children": [
        "IPY_MODEL_7a10568b81114aa6ad4513cb63e63fc9",
        "IPY_MODEL_aa9204920cea447b870fb39e9f8414db"
       ],
       "layout": "IPY_MODEL_33a5ca621c1347a0b7b40420e8738cd8"
      }
     },
     "d9fea7ebcf434e508265b08d912c7805": {
      "model_module": "@jupyter-widgets/base",
      "model_module_version": "1.2.0",
      "model_name": "LayoutModel",
      "state": {
       "_model_module": "@jupyter-widgets/base",
       "_model_module_version": "1.2.0",
       "_model_name": "LayoutModel",
       "_view_count": null,
       "_view_module": "@jupyter-widgets/base",
       "_view_module_version": "1.2.0",
       "_view_name": "LayoutView",
       "align_content": null,
       "align_items": null,
       "align_self": null,
       "border": null,
       "bottom": null,
       "display": null,
       "flex": null,
       "flex_flow": null,
       "grid_area": null,
       "grid_auto_columns": null,
       "grid_auto_flow": null,
       "grid_auto_rows": null,
       "grid_column": null,
       "grid_gap": null,
       "grid_row": null,
       "grid_template_areas": null,
       "grid_template_columns": null,
       "grid_template_rows": null,
       "height": null,
       "justify_content": null,
       "justify_items": null,
       "left": null,
       "margin": null,
       "max_height": null,
       "max_width": null,
       "min_height": null,
       "min_width": null,
       "object_fit": null,
       "object_position": null,
       "order": null,
       "overflow": null,
       "overflow_x": null,
       "overflow_y": null,
       "padding": null,
       "right": null,
       "top": null,
       "visibility": null,
       "width": null
      }
     },
     "ff5be76810fe4071911202363948ebd9": {
      "model_module": "@jupyter-widgets/controls",
      "model_module_version": "1.5.0",
      "model_name": "ProgressStyleModel",
      "state": {
       "_model_module": "@jupyter-widgets/controls",
       "_model_module_version": "1.5.0",
       "_model_name": "ProgressStyleModel",
       "_view_count": null,
       "_view_module": "@jupyter-widgets/base",
       "_view_module_version": "1.2.0",
       "_view_name": "StyleView",
       "bar_color": null,
       "description_width": "initial"
      }
     }
    },
    "version_major": 2,
    "version_minor": 0
   }
  }
 },
 "nbformat": 4,
 "nbformat_minor": 1
}
